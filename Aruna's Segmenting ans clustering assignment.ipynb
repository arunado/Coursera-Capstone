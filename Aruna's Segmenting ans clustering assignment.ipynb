{
    "cells": [
        {
            "metadata": {
                "scrolled": true
            },
            "cell_type": "code",
            "source": "import numpy as np # library to handle data in a vectorized manner\n\nimport pandas as pd # library for data analsysis\npd.set_option('display.max_columns', None)\npd.set_option('display.max_rows', None)\n\nimport json # library to handle JSON files\nimport geopy\nfrom geopy.geocoders import Nominatim # convert an address into latitude and longitude values\n\nimport requests # library to handle requests\nfrom pandas.io.json import json_normalize # tranform JSON file into a pandas dataframe\n\n# Matplotlib and associated plotting modules\nimport matplotlib.cm as cm\nimport matplotlib.colors as colors\n\n# import k-means from clustering stage\nfrom sklearn.cluster import KMeans\n\n!conda install folium -c conda-forge\nimport folium # map rendering library\n\nprint('Libraries imported.')",
            "execution_count": 65,
            "outputs": [
                {
                    "output_type": "stream",
                    "text": "Solving environment: done\n\n# All requested packages already installed.\n\nLibraries imported.\n",
                    "name": "stdout"
                }
            ]
        },
        {
            "metadata": {
                "scrolled": true
            },
            "cell_type": "code",
            "source": "import requests\nimport lxml.html as lh\n\nurl = 'https://en.wikipedia.org/wiki/List_of_postal_codes_of_Canada:_M'\n\n     \n        \ndf = pd.read_html(url)\n\n",
            "execution_count": 66,
            "outputs": []
        },
        {
            "metadata": {
                "scrolled": true
            },
            "cell_type": "code",
            "source": "len(df), type(df)\n",
            "execution_count": 67,
            "outputs": [
                {
                    "output_type": "execute_result",
                    "execution_count": 67,
                    "data": {
                        "text/plain": "(3, list)"
                    },
                    "metadata": {}
                }
            ]
        },
        {
            "metadata": {
                "scrolled": true
            },
            "cell_type": "code",
            "source": "df[0].columns",
            "execution_count": 68,
            "outputs": [
                {
                    "output_type": "execute_result",
                    "execution_count": 68,
                    "data": {
                        "text/plain": "Index(['Postal Code', 'Borough', 'Neighborhood'], dtype='object')"
                    },
                    "metadata": {}
                }
            ]
        },
        {
            "metadata": {
                "scrolled": false
            },
            "cell_type": "code",
            "source": "df[0].drop['Borough'=='Not assigned']",
            "execution_count": null,
            "outputs": []
        },
        {
            "metadata": {
                "scrolled": true
            },
            "cell_type": "code",
            "source": "df[0].head()",
            "execution_count": 10,
            "outputs": [
                {
                    "output_type": "execute_result",
                    "execution_count": 10,
                    "data": {
                        "text/plain": "  Postal Code           Borough               Neighborhood\n0         M1A      Not assigned                        NaN\n1         M2A      Not assigned                        NaN\n2         M3A        North York                  Parkwoods\n3         M4A        North York           Victoria Village\n4         M5A  Downtown Toronto  Regent Park, Harbourfront",
                        "text/html": "<div>\n<style scoped>\n    .dataframe tbody tr th:only-of-type {\n        vertical-align: middle;\n    }\n\n    .dataframe tbody tr th {\n        vertical-align: top;\n    }\n\n    .dataframe thead th {\n        text-align: right;\n    }\n</style>\n<table border=\"1\" class=\"dataframe\">\n  <thead>\n    <tr style=\"text-align: right;\">\n      <th></th>\n      <th>Postal Code</th>\n      <th>Borough</th>\n      <th>Neighborhood</th>\n    </tr>\n  </thead>\n  <tbody>\n    <tr>\n      <th>0</th>\n      <td>M1A</td>\n      <td>Not assigned</td>\n      <td>NaN</td>\n    </tr>\n    <tr>\n      <th>1</th>\n      <td>M2A</td>\n      <td>Not assigned</td>\n      <td>NaN</td>\n    </tr>\n    <tr>\n      <th>2</th>\n      <td>M3A</td>\n      <td>North York</td>\n      <td>Parkwoods</td>\n    </tr>\n    <tr>\n      <th>3</th>\n      <td>M4A</td>\n      <td>North York</td>\n      <td>Victoria Village</td>\n    </tr>\n    <tr>\n      <th>4</th>\n      <td>M5A</td>\n      <td>Downtown Toronto</td>\n      <td>Regent Park, Harbourfront</td>\n    </tr>\n  </tbody>\n</table>\n</div>"
                    },
                    "metadata": {}
                }
            ]
        },
        {
            "metadata": {
                "scrolled": true
            },
            "cell_type": "code",
            "source": "df[0].shape\n",
            "execution_count": 12,
            "outputs": [
                {
                    "output_type": "execute_result",
                    "execution_count": 12,
                    "data": {
                        "text/plain": "(180, 3)"
                    },
                    "metadata": {}
                }
            ]
        },
        {
            "metadata": {
                "scrolled": true
            },
            "cell_type": "code",
            "source": "df[0].dropna(inplace= True)",
            "execution_count": 69,
            "outputs": []
        },
        {
            "metadata": {
                "scrolled": true
            },
            "cell_type": "code",
            "source": "df[0].shape",
            "execution_count": 70,
            "outputs": [
                {
                    "output_type": "execute_result",
                    "execution_count": 70,
                    "data": {
                        "text/plain": "(103, 3)"
                    },
                    "metadata": {}
                }
            ]
        },
        {
            "metadata": {
                "scrolled": true
            },
            "cell_type": "code",
            "source": "df=df[0]",
            "execution_count": 16,
            "outputs": []
        },
        {
            "metadata": {
                "scrolled": true
            },
            "cell_type": "code",
            "source": "indexNames = df[ df['Borough'] == 'Not assigned' ].index\n \n# Delete these row indexes from dataFrame\ndf.drop(indexNames , inplace=True)",
            "execution_count": 71,
            "outputs": [
                {
                    "output_type": "error",
                    "ename": "TypeError",
                    "evalue": "list indices must be integers or slices, not str",
                    "traceback": [
                        "\u001b[0;31m---------------------------------------------------------------------------\u001b[0m",
                        "\u001b[0;31mTypeError\u001b[0m                                 Traceback (most recent call last)",
                        "\u001b[0;32m<ipython-input-71-4a321520b62c>\u001b[0m in \u001b[0;36m<module>\u001b[0;34m\u001b[0m\n\u001b[0;32m----> 1\u001b[0;31m \u001b[0mindexNames\u001b[0m \u001b[0;34m=\u001b[0m \u001b[0mdf\u001b[0m\u001b[0;34m[\u001b[0m \u001b[0mdf\u001b[0m\u001b[0;34m[\u001b[0m\u001b[0;34m'Borough'\u001b[0m\u001b[0;34m]\u001b[0m \u001b[0;34m==\u001b[0m \u001b[0;34m'Not assigned'\u001b[0m \u001b[0;34m]\u001b[0m\u001b[0;34m.\u001b[0m\u001b[0mindex\u001b[0m\u001b[0;34m\u001b[0m\u001b[0;34m\u001b[0m\u001b[0m\n\u001b[0m\u001b[1;32m      2\u001b[0m \u001b[0;34m\u001b[0m\u001b[0m\n\u001b[1;32m      3\u001b[0m \u001b[0;31m# Delete these row indexes from dataFrame\u001b[0m\u001b[0;34m\u001b[0m\u001b[0;34m\u001b[0m\u001b[0;34m\u001b[0m\u001b[0m\n\u001b[1;32m      4\u001b[0m \u001b[0mdf\u001b[0m\u001b[0;34m.\u001b[0m\u001b[0mdrop\u001b[0m\u001b[0;34m(\u001b[0m\u001b[0mindexNames\u001b[0m \u001b[0;34m,\u001b[0m \u001b[0minplace\u001b[0m\u001b[0;34m=\u001b[0m\u001b[0;32mTrue\u001b[0m\u001b[0;34m)\u001b[0m\u001b[0;34m\u001b[0m\u001b[0;34m\u001b[0m\u001b[0m\n",
                        "\u001b[0;31mTypeError\u001b[0m: list indices must be integers or slices, not str"
                    ]
                }
            ]
        },
        {
            "metadata": {
                "scrolled": true
            },
            "cell_type": "code",
            "source": "df.shape",
            "execution_count": 18,
            "outputs": [
                {
                    "output_type": "execute_result",
                    "execution_count": 18,
                    "data": {
                        "text/plain": "(103, 3)"
                    },
                    "metadata": {}
                }
            ]
        },
        {
            "metadata": {
                "scrolled": true
            },
            "cell_type": "code",
            "source": "df.drop_duplicates(subset =\"Postal Code\", \n                     keep = False, inplace = True) \n",
            "execution_count": 20,
            "outputs": []
        },
        {
            "metadata": {
                "scrolled": true
            },
            "cell_type": "code",
            "source": "df.shape\n",
            "execution_count": 21,
            "outputs": [
                {
                    "output_type": "execute_result",
                    "execution_count": 21,
                    "data": {
                        "text/plain": "(103, 3)"
                    },
                    "metadata": {}
                }
            ]
        },
        {
            "metadata": {
                "scrolled": false
            },
            "cell_type": "code",
            "source": "df[0]\n",
            "execution_count": 73,
            "outputs": [
                {
                    "output_type": "execute_result",
                    "execution_count": 73,
                    "data": {
                        "text/plain": "    Postal Code           Borough  \\\n2           M3A        North York   \n3           M4A        North York   \n4           M5A  Downtown Toronto   \n5           M6A        North York   \n6           M7A  Downtown Toronto   \n8           M9A         Etobicoke   \n9           M1B       Scarborough   \n11          M3B        North York   \n12          M4B         East York   \n13          M5B  Downtown Toronto   \n14          M6B        North York   \n17          M9B         Etobicoke   \n18          M1C       Scarborough   \n20          M3C        North York   \n21          M4C         East York   \n22          M5C  Downtown Toronto   \n23          M6C              York   \n26          M9C         Etobicoke   \n27          M1E       Scarborough   \n30          M4E      East Toronto   \n31          M5E  Downtown Toronto   \n32          M6E              York   \n36          M1G       Scarborough   \n39          M4G         East York   \n40          M5G  Downtown Toronto   \n41          M6G  Downtown Toronto   \n45          M1H       Scarborough   \n46          M2H        North York   \n47          M3H        North York   \n48          M4H         East York   \n49          M5H  Downtown Toronto   \n50          M6H      West Toronto   \n54          M1J       Scarborough   \n55          M2J        North York   \n56          M3J        North York   \n57          M4J         East York   \n58          M5J  Downtown Toronto   \n59          M6J      West Toronto   \n63          M1K       Scarborough   \n64          M2K        North York   \n65          M3K        North York   \n66          M4K      East Toronto   \n67          M5K  Downtown Toronto   \n68          M6K      West Toronto   \n72          M1L       Scarborough   \n73          M2L        North York   \n74          M3L        North York   \n75          M4L      East Toronto   \n76          M5L  Downtown Toronto   \n77          M6L        North York   \n80          M9L        North York   \n81          M1M       Scarborough   \n82          M2M        North York   \n83          M3M        North York   \n84          M4M      East Toronto   \n85          M5M        North York   \n86          M6M              York   \n89          M9M        North York   \n90          M1N       Scarborough   \n91          M2N        North York   \n92          M3N        North York   \n93          M4N   Central Toronto   \n94          M5N   Central Toronto   \n95          M6N              York   \n98          M9N              York   \n99          M1P       Scarborough   \n100         M2P        North York   \n102         M4P   Central Toronto   \n103         M5P   Central Toronto   \n104         M6P      West Toronto   \n107         M9P         Etobicoke   \n108         M1R       Scarborough   \n109         M2R        North York   \n111         M4R   Central Toronto   \n112         M5R   Central Toronto   \n113         M6R      West Toronto   \n114         M7R       Mississauga   \n116         M9R         Etobicoke   \n117         M1S       Scarborough   \n120         M4S   Central Toronto   \n121         M5S  Downtown Toronto   \n122         M6S      West Toronto   \n126         M1T       Scarborough   \n129         M4T   Central Toronto   \n130         M5T  Downtown Toronto   \n135         M1V       Scarborough   \n138         M4V   Central Toronto   \n139         M5V  Downtown Toronto   \n142         M8V         Etobicoke   \n143         M9V         Etobicoke   \n144         M1W       Scarborough   \n147         M4W  Downtown Toronto   \n148         M5W  Downtown Toronto   \n151         M8W         Etobicoke   \n152         M9W         Etobicoke   \n153         M1X       Scarborough   \n156         M4X  Downtown Toronto   \n157         M5X  Downtown Toronto   \n160         M8X         Etobicoke   \n165         M4Y  Downtown Toronto   \n168         M7Y      East Toronto   \n169         M8Y         Etobicoke   \n178         M8Z         Etobicoke   \n\n                                          Neighborhood  \n2                                            Parkwoods  \n3                                     Victoria Village  \n4                            Regent Park, Harbourfront  \n5                     Lawrence Manor, Lawrence Heights  \n6          Queen's Park, Ontario Provincial Government  \n8                                     Islington Avenue  \n9                                       Malvern, Rouge  \n11                                           Don Mills  \n12                     Parkview Hill, Woodbine Gardens  \n13                            Garden District, Ryerson  \n14                                           Glencairn  \n17   West Deane Park, Princess Gardens, Martin Grov...  \n18              Rouge Hill, Port Union, Highland Creek  \n20                                           Don Mills  \n21                                    Woodbine Heights  \n22                                      St. James Town  \n23                                  Humewood-Cedarvale  \n26   Eringate, Bloordale Gardens, Old Burnhamthorpe...  \n27                   Guildwood, Morningside, West Hill  \n30                                         The Beaches  \n31                                         Berczy Park  \n32                                 Caledonia-Fairbanks  \n36                                              Woburn  \n39                                             Leaside  \n40                                  Central Bay Street  \n41                                            Christie  \n45                                           Cedarbrae  \n46                                   Hillcrest Village  \n47     Bathurst Manor, Wilson Heights, Downsview North  \n48                                    Thorncliffe Park  \n49                            Richmond, Adelaide, King  \n50                        Dufferin, Dovercourt Village  \n54                                 Scarborough Village  \n55                        Fairview, Henry Farm, Oriole  \n56                     Northwood Park, York University  \n57                                        East Toronto  \n58   Harbourfront East, Union Station, Toronto Islands  \n59                            Little Portugal, Trinity  \n63         Kennedy Park, Ionview, East Birchmount Park  \n64                                     Bayview Village  \n65                                           Downsview  \n66                        The Danforth West, Riverdale  \n67            Toronto Dominion Centre, Design Exchange  \n68        Brockton, Parkdale Village, Exhibition Place  \n72                     Golden Mile, Clairlea, Oakridge  \n73                            York Mills, Silver Hills  \n74                                           Downsview  \n75                      India Bazaar, The Beaches West  \n76                      Commerce Court, Victoria Hotel  \n77            North Park, Maple Leaf Park, Upwood Park  \n80                                       Humber Summit  \n81     Cliffside, Cliffcrest, Scarborough Village West  \n82                             Willowdale, Newtonbrook  \n83                                           Downsview  \n84                                     Studio District  \n85                   Bedford Park, Lawrence Manor East  \n86    Del Ray, Mount Dennis, Keelsdale and Silverthorn  \n89                                    Humberlea, Emery  \n90                         Birch Cliff, Cliffside West  \n91                                          Willowdale  \n92                                           Downsview  \n93                                       Lawrence Park  \n94                                            Roselawn  \n95                       Runnymede, The Junction North  \n98                                              Weston  \n99   Dorset Park, Wexford Heights, Scarborough Town...  \n100                                    York Mills West  \n102                                   Davisville North  \n103                           Forest Hill North & West  \n104                      High Park, The Junction South  \n107                                          Westmount  \n108                                  Wexford, Maryvale  \n109                                         Willowdale  \n111                                 North Toronto West  \n112                The Annex, North Midtown, Yorkville  \n113                             Parkdale, Roncesvalles  \n114              Canada Post Gateway Processing Centre  \n116  Kingsview Village, St. Phillips, Martin Grove ...  \n117                                          Agincourt  \n120                                         Davisville  \n121                     University of Toronto, Harbord  \n122                                 Runnymede, Swansea  \n126            Clarks Corners, Tam O'Shanter, Sullivan  \n129                        Moore Park, Summerhill East  \n130          Kensington Market, Chinatown, Grange Park  \n135  Milliken, Agincourt North, Steeles East, L'Amo...  \n138  Summerhill West, Rathnelly, South Hill, Forest...  \n139  CN Tower, King and Spadina, Railway Lands, Har...  \n142       New Toronto, Mimico South, Humber Bay Shores  \n143  South Steeles, Silverstone, Humbergate, Jamest...  \n144                      Steeles West, L'Amoreaux West  \n147                                           Rosedale  \n148                                     Stn A PO Boxes  \n151                             Alderwood, Long Branch  \n152                                          Northwest  \n153                                        Upper Rouge  \n156                        St. James Town, Cabbagetown  \n157             First Canadian Place, Underground city  \n160      The Kingsway, Montgomery Road, Old Mill North  \n165                               Church and Wellesley  \n168              Business reply mail Processing Centre  \n169  Old Mill South, King's Mill Park, Sunnylea, Hu...  \n178  Mimico NW, The Queensway West, South of Bloor,...  ",
                        "text/html": "<div>\n<style scoped>\n    .dataframe tbody tr th:only-of-type {\n        vertical-align: middle;\n    }\n\n    .dataframe tbody tr th {\n        vertical-align: top;\n    }\n\n    .dataframe thead th {\n        text-align: right;\n    }\n</style>\n<table border=\"1\" class=\"dataframe\">\n  <thead>\n    <tr style=\"text-align: right;\">\n      <th></th>\n      <th>Postal Code</th>\n      <th>Borough</th>\n      <th>Neighborhood</th>\n    </tr>\n  </thead>\n  <tbody>\n    <tr>\n      <th>2</th>\n      <td>M3A</td>\n      <td>North York</td>\n      <td>Parkwoods</td>\n    </tr>\n    <tr>\n      <th>3</th>\n      <td>M4A</td>\n      <td>North York</td>\n      <td>Victoria Village</td>\n    </tr>\n    <tr>\n      <th>4</th>\n      <td>M5A</td>\n      <td>Downtown Toronto</td>\n      <td>Regent Park, Harbourfront</td>\n    </tr>\n    <tr>\n      <th>5</th>\n      <td>M6A</td>\n      <td>North York</td>\n      <td>Lawrence Manor, Lawrence Heights</td>\n    </tr>\n    <tr>\n      <th>6</th>\n      <td>M7A</td>\n      <td>Downtown Toronto</td>\n      <td>Queen's Park, Ontario Provincial Government</td>\n    </tr>\n    <tr>\n      <th>8</th>\n      <td>M9A</td>\n      <td>Etobicoke</td>\n      <td>Islington Avenue</td>\n    </tr>\n    <tr>\n      <th>9</th>\n      <td>M1B</td>\n      <td>Scarborough</td>\n      <td>Malvern, Rouge</td>\n    </tr>\n    <tr>\n      <th>11</th>\n      <td>M3B</td>\n      <td>North York</td>\n      <td>Don Mills</td>\n    </tr>\n    <tr>\n      <th>12</th>\n      <td>M4B</td>\n      <td>East York</td>\n      <td>Parkview Hill, Woodbine Gardens</td>\n    </tr>\n    <tr>\n      <th>13</th>\n      <td>M5B</td>\n      <td>Downtown Toronto</td>\n      <td>Garden District, Ryerson</td>\n    </tr>\n    <tr>\n      <th>14</th>\n      <td>M6B</td>\n      <td>North York</td>\n      <td>Glencairn</td>\n    </tr>\n    <tr>\n      <th>17</th>\n      <td>M9B</td>\n      <td>Etobicoke</td>\n      <td>West Deane Park, Princess Gardens, Martin Grov...</td>\n    </tr>\n    <tr>\n      <th>18</th>\n      <td>M1C</td>\n      <td>Scarborough</td>\n      <td>Rouge Hill, Port Union, Highland Creek</td>\n    </tr>\n    <tr>\n      <th>20</th>\n      <td>M3C</td>\n      <td>North York</td>\n      <td>Don Mills</td>\n    </tr>\n    <tr>\n      <th>21</th>\n      <td>M4C</td>\n      <td>East York</td>\n      <td>Woodbine Heights</td>\n    </tr>\n    <tr>\n      <th>22</th>\n      <td>M5C</td>\n      <td>Downtown Toronto</td>\n      <td>St. James Town</td>\n    </tr>\n    <tr>\n      <th>23</th>\n      <td>M6C</td>\n      <td>York</td>\n      <td>Humewood-Cedarvale</td>\n    </tr>\n    <tr>\n      <th>26</th>\n      <td>M9C</td>\n      <td>Etobicoke</td>\n      <td>Eringate, Bloordale Gardens, Old Burnhamthorpe...</td>\n    </tr>\n    <tr>\n      <th>27</th>\n      <td>M1E</td>\n      <td>Scarborough</td>\n      <td>Guildwood, Morningside, West Hill</td>\n    </tr>\n    <tr>\n      <th>30</th>\n      <td>M4E</td>\n      <td>East Toronto</td>\n      <td>The Beaches</td>\n    </tr>\n    <tr>\n      <th>31</th>\n      <td>M5E</td>\n      <td>Downtown Toronto</td>\n      <td>Berczy Park</td>\n    </tr>\n    <tr>\n      <th>32</th>\n      <td>M6E</td>\n      <td>York</td>\n      <td>Caledonia-Fairbanks</td>\n    </tr>\n    <tr>\n      <th>36</th>\n      <td>M1G</td>\n      <td>Scarborough</td>\n      <td>Woburn</td>\n    </tr>\n    <tr>\n      <th>39</th>\n      <td>M4G</td>\n      <td>East York</td>\n      <td>Leaside</td>\n    </tr>\n    <tr>\n      <th>40</th>\n      <td>M5G</td>\n      <td>Downtown Toronto</td>\n      <td>Central Bay Street</td>\n    </tr>\n    <tr>\n      <th>41</th>\n      <td>M6G</td>\n      <td>Downtown Toronto</td>\n      <td>Christie</td>\n    </tr>\n    <tr>\n      <th>45</th>\n      <td>M1H</td>\n      <td>Scarborough</td>\n      <td>Cedarbrae</td>\n    </tr>\n    <tr>\n      <th>46</th>\n      <td>M2H</td>\n      <td>North York</td>\n      <td>Hillcrest Village</td>\n    </tr>\n    <tr>\n      <th>47</th>\n      <td>M3H</td>\n      <td>North York</td>\n      <td>Bathurst Manor, Wilson Heights, Downsview North</td>\n    </tr>\n    <tr>\n      <th>48</th>\n      <td>M4H</td>\n      <td>East York</td>\n      <td>Thorncliffe Park</td>\n    </tr>\n    <tr>\n      <th>49</th>\n      <td>M5H</td>\n      <td>Downtown Toronto</td>\n      <td>Richmond, Adelaide, King</td>\n    </tr>\n    <tr>\n      <th>50</th>\n      <td>M6H</td>\n      <td>West Toronto</td>\n      <td>Dufferin, Dovercourt Village</td>\n    </tr>\n    <tr>\n      <th>54</th>\n      <td>M1J</td>\n      <td>Scarborough</td>\n      <td>Scarborough Village</td>\n    </tr>\n    <tr>\n      <th>55</th>\n      <td>M2J</td>\n      <td>North York</td>\n      <td>Fairview, Henry Farm, Oriole</td>\n    </tr>\n    <tr>\n      <th>56</th>\n      <td>M3J</td>\n      <td>North York</td>\n      <td>Northwood Park, York University</td>\n    </tr>\n    <tr>\n      <th>57</th>\n      <td>M4J</td>\n      <td>East York</td>\n      <td>East Toronto</td>\n    </tr>\n    <tr>\n      <th>58</th>\n      <td>M5J</td>\n      <td>Downtown Toronto</td>\n      <td>Harbourfront East, Union Station, Toronto Islands</td>\n    </tr>\n    <tr>\n      <th>59</th>\n      <td>M6J</td>\n      <td>West Toronto</td>\n      <td>Little Portugal, Trinity</td>\n    </tr>\n    <tr>\n      <th>63</th>\n      <td>M1K</td>\n      <td>Scarborough</td>\n      <td>Kennedy Park, Ionview, East Birchmount Park</td>\n    </tr>\n    <tr>\n      <th>64</th>\n      <td>M2K</td>\n      <td>North York</td>\n      <td>Bayview Village</td>\n    </tr>\n    <tr>\n      <th>65</th>\n      <td>M3K</td>\n      <td>North York</td>\n      <td>Downsview</td>\n    </tr>\n    <tr>\n      <th>66</th>\n      <td>M4K</td>\n      <td>East Toronto</td>\n      <td>The Danforth West, Riverdale</td>\n    </tr>\n    <tr>\n      <th>67</th>\n      <td>M5K</td>\n      <td>Downtown Toronto</td>\n      <td>Toronto Dominion Centre, Design Exchange</td>\n    </tr>\n    <tr>\n      <th>68</th>\n      <td>M6K</td>\n      <td>West Toronto</td>\n      <td>Brockton, Parkdale Village, Exhibition Place</td>\n    </tr>\n    <tr>\n      <th>72</th>\n      <td>M1L</td>\n      <td>Scarborough</td>\n      <td>Golden Mile, Clairlea, Oakridge</td>\n    </tr>\n    <tr>\n      <th>73</th>\n      <td>M2L</td>\n      <td>North York</td>\n      <td>York Mills, Silver Hills</td>\n    </tr>\n    <tr>\n      <th>74</th>\n      <td>M3L</td>\n      <td>North York</td>\n      <td>Downsview</td>\n    </tr>\n    <tr>\n      <th>75</th>\n      <td>M4L</td>\n      <td>East Toronto</td>\n      <td>India Bazaar, The Beaches West</td>\n    </tr>\n    <tr>\n      <th>76</th>\n      <td>M5L</td>\n      <td>Downtown Toronto</td>\n      <td>Commerce Court, Victoria Hotel</td>\n    </tr>\n    <tr>\n      <th>77</th>\n      <td>M6L</td>\n      <td>North York</td>\n      <td>North Park, Maple Leaf Park, Upwood Park</td>\n    </tr>\n    <tr>\n      <th>80</th>\n      <td>M9L</td>\n      <td>North York</td>\n      <td>Humber Summit</td>\n    </tr>\n    <tr>\n      <th>81</th>\n      <td>M1M</td>\n      <td>Scarborough</td>\n      <td>Cliffside, Cliffcrest, Scarborough Village West</td>\n    </tr>\n    <tr>\n      <th>82</th>\n      <td>M2M</td>\n      <td>North York</td>\n      <td>Willowdale, Newtonbrook</td>\n    </tr>\n    <tr>\n      <th>83</th>\n      <td>M3M</td>\n      <td>North York</td>\n      <td>Downsview</td>\n    </tr>\n    <tr>\n      <th>84</th>\n      <td>M4M</td>\n      <td>East Toronto</td>\n      <td>Studio District</td>\n    </tr>\n    <tr>\n      <th>85</th>\n      <td>M5M</td>\n      <td>North York</td>\n      <td>Bedford Park, Lawrence Manor East</td>\n    </tr>\n    <tr>\n      <th>86</th>\n      <td>M6M</td>\n      <td>York</td>\n      <td>Del Ray, Mount Dennis, Keelsdale and Silverthorn</td>\n    </tr>\n    <tr>\n      <th>89</th>\n      <td>M9M</td>\n      <td>North York</td>\n      <td>Humberlea, Emery</td>\n    </tr>\n    <tr>\n      <th>90</th>\n      <td>M1N</td>\n      <td>Scarborough</td>\n      <td>Birch Cliff, Cliffside West</td>\n    </tr>\n    <tr>\n      <th>91</th>\n      <td>M2N</td>\n      <td>North York</td>\n      <td>Willowdale</td>\n    </tr>\n    <tr>\n      <th>92</th>\n      <td>M3N</td>\n      <td>North York</td>\n      <td>Downsview</td>\n    </tr>\n    <tr>\n      <th>93</th>\n      <td>M4N</td>\n      <td>Central Toronto</td>\n      <td>Lawrence Park</td>\n    </tr>\n    <tr>\n      <th>94</th>\n      <td>M5N</td>\n      <td>Central Toronto</td>\n      <td>Roselawn</td>\n    </tr>\n    <tr>\n      <th>95</th>\n      <td>M6N</td>\n      <td>York</td>\n      <td>Runnymede, The Junction North</td>\n    </tr>\n    <tr>\n      <th>98</th>\n      <td>M9N</td>\n      <td>York</td>\n      <td>Weston</td>\n    </tr>\n    <tr>\n      <th>99</th>\n      <td>M1P</td>\n      <td>Scarborough</td>\n      <td>Dorset Park, Wexford Heights, Scarborough Town...</td>\n    </tr>\n    <tr>\n      <th>100</th>\n      <td>M2P</td>\n      <td>North York</td>\n      <td>York Mills West</td>\n    </tr>\n    <tr>\n      <th>102</th>\n      <td>M4P</td>\n      <td>Central Toronto</td>\n      <td>Davisville North</td>\n    </tr>\n    <tr>\n      <th>103</th>\n      <td>M5P</td>\n      <td>Central Toronto</td>\n      <td>Forest Hill North &amp; West</td>\n    </tr>\n    <tr>\n      <th>104</th>\n      <td>M6P</td>\n      <td>West Toronto</td>\n      <td>High Park, The Junction South</td>\n    </tr>\n    <tr>\n      <th>107</th>\n      <td>M9P</td>\n      <td>Etobicoke</td>\n      <td>Westmount</td>\n    </tr>\n    <tr>\n      <th>108</th>\n      <td>M1R</td>\n      <td>Scarborough</td>\n      <td>Wexford, Maryvale</td>\n    </tr>\n    <tr>\n      <th>109</th>\n      <td>M2R</td>\n      <td>North York</td>\n      <td>Willowdale</td>\n    </tr>\n    <tr>\n      <th>111</th>\n      <td>M4R</td>\n      <td>Central Toronto</td>\n      <td>North Toronto West</td>\n    </tr>\n    <tr>\n      <th>112</th>\n      <td>M5R</td>\n      <td>Central Toronto</td>\n      <td>The Annex, North Midtown, Yorkville</td>\n    </tr>\n    <tr>\n      <th>113</th>\n      <td>M6R</td>\n      <td>West Toronto</td>\n      <td>Parkdale, Roncesvalles</td>\n    </tr>\n    <tr>\n      <th>114</th>\n      <td>M7R</td>\n      <td>Mississauga</td>\n      <td>Canada Post Gateway Processing Centre</td>\n    </tr>\n    <tr>\n      <th>116</th>\n      <td>M9R</td>\n      <td>Etobicoke</td>\n      <td>Kingsview Village, St. Phillips, Martin Grove ...</td>\n    </tr>\n    <tr>\n      <th>117</th>\n      <td>M1S</td>\n      <td>Scarborough</td>\n      <td>Agincourt</td>\n    </tr>\n    <tr>\n      <th>120</th>\n      <td>M4S</td>\n      <td>Central Toronto</td>\n      <td>Davisville</td>\n    </tr>\n    <tr>\n      <th>121</th>\n      <td>M5S</td>\n      <td>Downtown Toronto</td>\n      <td>University of Toronto, Harbord</td>\n    </tr>\n    <tr>\n      <th>122</th>\n      <td>M6S</td>\n      <td>West Toronto</td>\n      <td>Runnymede, Swansea</td>\n    </tr>\n    <tr>\n      <th>126</th>\n      <td>M1T</td>\n      <td>Scarborough</td>\n      <td>Clarks Corners, Tam O'Shanter, Sullivan</td>\n    </tr>\n    <tr>\n      <th>129</th>\n      <td>M4T</td>\n      <td>Central Toronto</td>\n      <td>Moore Park, Summerhill East</td>\n    </tr>\n    <tr>\n      <th>130</th>\n      <td>M5T</td>\n      <td>Downtown Toronto</td>\n      <td>Kensington Market, Chinatown, Grange Park</td>\n    </tr>\n    <tr>\n      <th>135</th>\n      <td>M1V</td>\n      <td>Scarborough</td>\n      <td>Milliken, Agincourt North, Steeles East, L'Amo...</td>\n    </tr>\n    <tr>\n      <th>138</th>\n      <td>M4V</td>\n      <td>Central Toronto</td>\n      <td>Summerhill West, Rathnelly, South Hill, Forest...</td>\n    </tr>\n    <tr>\n      <th>139</th>\n      <td>M5V</td>\n      <td>Downtown Toronto</td>\n      <td>CN Tower, King and Spadina, Railway Lands, Har...</td>\n    </tr>\n    <tr>\n      <th>142</th>\n      <td>M8V</td>\n      <td>Etobicoke</td>\n      <td>New Toronto, Mimico South, Humber Bay Shores</td>\n    </tr>\n    <tr>\n      <th>143</th>\n      <td>M9V</td>\n      <td>Etobicoke</td>\n      <td>South Steeles, Silverstone, Humbergate, Jamest...</td>\n    </tr>\n    <tr>\n      <th>144</th>\n      <td>M1W</td>\n      <td>Scarborough</td>\n      <td>Steeles West, L'Amoreaux West</td>\n    </tr>\n    <tr>\n      <th>147</th>\n      <td>M4W</td>\n      <td>Downtown Toronto</td>\n      <td>Rosedale</td>\n    </tr>\n    <tr>\n      <th>148</th>\n      <td>M5W</td>\n      <td>Downtown Toronto</td>\n      <td>Stn A PO Boxes</td>\n    </tr>\n    <tr>\n      <th>151</th>\n      <td>M8W</td>\n      <td>Etobicoke</td>\n      <td>Alderwood, Long Branch</td>\n    </tr>\n    <tr>\n      <th>152</th>\n      <td>M9W</td>\n      <td>Etobicoke</td>\n      <td>Northwest</td>\n    </tr>\n    <tr>\n      <th>153</th>\n      <td>M1X</td>\n      <td>Scarborough</td>\n      <td>Upper Rouge</td>\n    </tr>\n    <tr>\n      <th>156</th>\n      <td>M4X</td>\n      <td>Downtown Toronto</td>\n      <td>St. James Town, Cabbagetown</td>\n    </tr>\n    <tr>\n      <th>157</th>\n      <td>M5X</td>\n      <td>Downtown Toronto</td>\n      <td>First Canadian Place, Underground city</td>\n    </tr>\n    <tr>\n      <th>160</th>\n      <td>M8X</td>\n      <td>Etobicoke</td>\n      <td>The Kingsway, Montgomery Road, Old Mill North</td>\n    </tr>\n    <tr>\n      <th>165</th>\n      <td>M4Y</td>\n      <td>Downtown Toronto</td>\n      <td>Church and Wellesley</td>\n    </tr>\n    <tr>\n      <th>168</th>\n      <td>M7Y</td>\n      <td>East Toronto</td>\n      <td>Business reply mail Processing Centre</td>\n    </tr>\n    <tr>\n      <th>169</th>\n      <td>M8Y</td>\n      <td>Etobicoke</td>\n      <td>Old Mill South, King's Mill Park, Sunnylea, Hu...</td>\n    </tr>\n    <tr>\n      <th>178</th>\n      <td>M8Z</td>\n      <td>Etobicoke</td>\n      <td>Mimico NW, The Queensway West, South of Bloor,...</td>\n    </tr>\n  </tbody>\n</table>\n</div>"
                    },
                    "metadata": {}
                }
            ]
        },
        {
            "metadata": {
                "scrolled": true
            },
            "cell_type": "code",
            "source": "# now for the next part of the assignment ",
            "execution_count": 74,
            "outputs": []
        },
        {
            "metadata": {
                "scrolled": true
            },
            "cell_type": "code",
            "source": "import geocoder # import geocoder\n\n# initialize your variable to None\nlat_lng_coords = None\n\n# loop until you get the coordinates\nwhile(lat_lng_coords is None):\n  g = geocoder.google('{}, Toronto, Ontario'.format(postal_code))\n  lat_lng_coords = g.latlng\n\nlatitude = lat_lng_coords[0]\nlongitude = lat_lng_coords[1]",
            "execution_count": null,
            "outputs": []
        },
        {
            "metadata": {
                "scrolled": true
            },
            "cell_type": "code",
            "source": "!conda install geocoder\n",
            "execution_count": 25,
            "outputs": [
                {
                    "output_type": "stream",
                    "text": "Solving environment: failed\n\nPackagesNotFoundError: The following packages are not available from current channels:\n\n  - geocoder\n\nCurrent channels:\n\n  - https://repo.anaconda.com/pkgs/main/linux-64\n  - https://repo.anaconda.com/pkgs/main/noarch\n\nTo search for alternate channels that may provide the conda package you're\nlooking for, navigate to\n\n    https://anaconda.org\n\nand use the search bar at the top of the page.\n\n\n",
                    "name": "stdout"
                }
            ]
        },
        {
            "metadata": {
                "scrolled": true
            },
            "cell_type": "code",
            "source": "import sys\n!{sys.executable} -m pip install Geocoder",
            "execution_count": null,
            "outputs": []
        },
        {
            "metadata": {
                "scrolled": true
            },
            "cell_type": "code",
            "source": "df.describe()",
            "execution_count": 49,
            "outputs": [
                {
                    "output_type": "execute_result",
                    "execution_count": 49,
                    "data": {
                        "text/plain": "       Postal Code     Borough Neighborhood\ncount          103         103          103\nunique         103          10           98\ntop            M1X  North York    Downsview\nfreq             1          24            4",
                        "text/html": "<div>\n<style scoped>\n    .dataframe tbody tr th:only-of-type {\n        vertical-align: middle;\n    }\n\n    .dataframe tbody tr th {\n        vertical-align: top;\n    }\n\n    .dataframe thead th {\n        text-align: right;\n    }\n</style>\n<table border=\"1\" class=\"dataframe\">\n  <thead>\n    <tr style=\"text-align: right;\">\n      <th></th>\n      <th>Postal Code</th>\n      <th>Borough</th>\n      <th>Neighborhood</th>\n    </tr>\n  </thead>\n  <tbody>\n    <tr>\n      <th>count</th>\n      <td>103</td>\n      <td>103</td>\n      <td>103</td>\n    </tr>\n    <tr>\n      <th>unique</th>\n      <td>103</td>\n      <td>10</td>\n      <td>98</td>\n    </tr>\n    <tr>\n      <th>top</th>\n      <td>M1X</td>\n      <td>North York</td>\n      <td>Downsview</td>\n    </tr>\n    <tr>\n      <th>freq</th>\n      <td>1</td>\n      <td>24</td>\n      <td>4</td>\n    </tr>\n  </tbody>\n</table>\n</div>"
                    },
                    "metadata": {}
                }
            ]
        },
        {
            "metadata": {},
            "cell_type": "code",
            "source": "\nimport types\nimport pandas as pd\nfrom botocore.client import Config\nimport ibm_boto3\n\ndef __iter__(self): return 0\n\n# @hidden_cell\n# The following code accesses a file in your IBM Cloud Object Storage. It includes your credentials.\n# You might want to remove those credentials before you share the notebook.\nclient_590928f7f599463397dc68aaee279193 = ibm_boto3.client(service_name='s3',\n    ibm_api_key_id='TGpEV3YR--A7xLNQBKrl0ImR7rQnMoy7bmn4cpb_e3DG',\n    ibm_auth_endpoint=\"https://iam.cloud.ibm.com/oidc/token\",\n    config=Config(signature_version='oauth'),\n    endpoint_url='https://s3-api.us-geo.objectstorage.service.networklayer.com')\n\nbody = client_590928f7f599463397dc68aaee279193.get_object(Bucket='arunasfirstproject-donotdelete-pr-gw4xfiuqojl49x',Key='Geospatial_Coordinates (2).csv')['Body']\n# add missing __iter__ method, so pandas accepts body as file-like object\nif not hasattr(body, \"__iter__\"): body.__iter__ = types.MethodType( __iter__, body )\n\ndf_data_1 = pd.read_csv(body)\ndf_data_1.head()\n",
            "execution_count": 80,
            "outputs": [
                {
                    "output_type": "execute_result",
                    "execution_count": 80,
                    "data": {
                        "text/plain": "  Postal Code   Latitude  Longitude\n0         M1B  43.806686 -79.194353\n1         M1C  43.784535 -79.160497\n2         M1E  43.763573 -79.188711\n3         M1G  43.770992 -79.216917\n4         M1H  43.773136 -79.239476",
                        "text/html": "<div>\n<style scoped>\n    .dataframe tbody tr th:only-of-type {\n        vertical-align: middle;\n    }\n\n    .dataframe tbody tr th {\n        vertical-align: top;\n    }\n\n    .dataframe thead th {\n        text-align: right;\n    }\n</style>\n<table border=\"1\" class=\"dataframe\">\n  <thead>\n    <tr style=\"text-align: right;\">\n      <th></th>\n      <th>Postal Code</th>\n      <th>Latitude</th>\n      <th>Longitude</th>\n    </tr>\n  </thead>\n  <tbody>\n    <tr>\n      <th>0</th>\n      <td>M1B</td>\n      <td>43.806686</td>\n      <td>-79.194353</td>\n    </tr>\n    <tr>\n      <th>1</th>\n      <td>M1C</td>\n      <td>43.784535</td>\n      <td>-79.160497</td>\n    </tr>\n    <tr>\n      <th>2</th>\n      <td>M1E</td>\n      <td>43.763573</td>\n      <td>-79.188711</td>\n    </tr>\n    <tr>\n      <th>3</th>\n      <td>M1G</td>\n      <td>43.770992</td>\n      <td>-79.216917</td>\n    </tr>\n    <tr>\n      <th>4</th>\n      <td>M1H</td>\n      <td>43.773136</td>\n      <td>-79.239476</td>\n    </tr>\n  </tbody>\n</table>\n</div>"
                    },
                    "metadata": {}
                }
            ]
        },
        {
            "metadata": {
                "scrolled": true
            },
            "cell_type": "code",
            "source": "dfm = pd.merge(df[0],df_data_1, on=['Postal Code'])",
            "execution_count": 82,
            "outputs": []
        },
        {
            "metadata": {},
            "cell_type": "code",
            "source": "dfm\n",
            "execution_count": 83,
            "outputs": [
                {
                    "output_type": "execute_result",
                    "execution_count": 83,
                    "data": {
                        "text/plain": "    Postal Code           Borough  \\\n0           M3A        North York   \n1           M4A        North York   \n2           M5A  Downtown Toronto   \n3           M6A        North York   \n4           M7A  Downtown Toronto   \n5           M9A         Etobicoke   \n6           M1B       Scarborough   \n7           M3B        North York   \n8           M4B         East York   \n9           M5B  Downtown Toronto   \n10          M6B        North York   \n11          M9B         Etobicoke   \n12          M1C       Scarborough   \n13          M3C        North York   \n14          M4C         East York   \n15          M5C  Downtown Toronto   \n16          M6C              York   \n17          M9C         Etobicoke   \n18          M1E       Scarborough   \n19          M4E      East Toronto   \n20          M5E  Downtown Toronto   \n21          M6E              York   \n22          M1G       Scarborough   \n23          M4G         East York   \n24          M5G  Downtown Toronto   \n25          M6G  Downtown Toronto   \n26          M1H       Scarborough   \n27          M2H        North York   \n28          M3H        North York   \n29          M4H         East York   \n30          M5H  Downtown Toronto   \n31          M6H      West Toronto   \n32          M1J       Scarborough   \n33          M2J        North York   \n34          M3J        North York   \n35          M4J         East York   \n36          M5J  Downtown Toronto   \n37          M6J      West Toronto   \n38          M1K       Scarborough   \n39          M2K        North York   \n40          M3K        North York   \n41          M4K      East Toronto   \n42          M5K  Downtown Toronto   \n43          M6K      West Toronto   \n44          M1L       Scarborough   \n45          M2L        North York   \n46          M3L        North York   \n47          M4L      East Toronto   \n48          M5L  Downtown Toronto   \n49          M6L        North York   \n50          M9L        North York   \n51          M1M       Scarborough   \n52          M2M        North York   \n53          M3M        North York   \n54          M4M      East Toronto   \n55          M5M        North York   \n56          M6M              York   \n57          M9M        North York   \n58          M1N       Scarborough   \n59          M2N        North York   \n60          M3N        North York   \n61          M4N   Central Toronto   \n62          M5N   Central Toronto   \n63          M6N              York   \n64          M9N              York   \n65          M1P       Scarborough   \n66          M2P        North York   \n67          M4P   Central Toronto   \n68          M5P   Central Toronto   \n69          M6P      West Toronto   \n70          M9P         Etobicoke   \n71          M1R       Scarborough   \n72          M2R        North York   \n73          M4R   Central Toronto   \n74          M5R   Central Toronto   \n75          M6R      West Toronto   \n76          M7R       Mississauga   \n77          M9R         Etobicoke   \n78          M1S       Scarborough   \n79          M4S   Central Toronto   \n80          M5S  Downtown Toronto   \n81          M6S      West Toronto   \n82          M1T       Scarborough   \n83          M4T   Central Toronto   \n84          M5T  Downtown Toronto   \n85          M1V       Scarborough   \n86          M4V   Central Toronto   \n87          M5V  Downtown Toronto   \n88          M8V         Etobicoke   \n89          M9V         Etobicoke   \n90          M1W       Scarborough   \n91          M4W  Downtown Toronto   \n92          M5W  Downtown Toronto   \n93          M8W         Etobicoke   \n94          M9W         Etobicoke   \n95          M1X       Scarborough   \n96          M4X  Downtown Toronto   \n97          M5X  Downtown Toronto   \n98          M8X         Etobicoke   \n99          M4Y  Downtown Toronto   \n100         M7Y      East Toronto   \n101         M8Y         Etobicoke   \n102         M8Z         Etobicoke   \n\n                                          Neighborhood   Latitude  Longitude  \n0                                            Parkwoods  43.753259 -79.329656  \n1                                     Victoria Village  43.725882 -79.315572  \n2                            Regent Park, Harbourfront  43.654260 -79.360636  \n3                     Lawrence Manor, Lawrence Heights  43.718518 -79.464763  \n4          Queen's Park, Ontario Provincial Government  43.662301 -79.389494  \n5                                     Islington Avenue  43.667856 -79.532242  \n6                                       Malvern, Rouge  43.806686 -79.194353  \n7                                            Don Mills  43.745906 -79.352188  \n8                      Parkview Hill, Woodbine Gardens  43.706397 -79.309937  \n9                             Garden District, Ryerson  43.657162 -79.378937  \n10                                           Glencairn  43.709577 -79.445073  \n11   West Deane Park, Princess Gardens, Martin Grov...  43.650943 -79.554724  \n12              Rouge Hill, Port Union, Highland Creek  43.784535 -79.160497  \n13                                           Don Mills  43.725900 -79.340923  \n14                                    Woodbine Heights  43.695344 -79.318389  \n15                                      St. James Town  43.651494 -79.375418  \n16                                  Humewood-Cedarvale  43.693781 -79.428191  \n17   Eringate, Bloordale Gardens, Old Burnhamthorpe...  43.643515 -79.577201  \n18                   Guildwood, Morningside, West Hill  43.763573 -79.188711  \n19                                         The Beaches  43.676357 -79.293031  \n20                                         Berczy Park  43.644771 -79.373306  \n21                                 Caledonia-Fairbanks  43.689026 -79.453512  \n22                                              Woburn  43.770992 -79.216917  \n23                                             Leaside  43.709060 -79.363452  \n24                                  Central Bay Street  43.657952 -79.387383  \n25                                            Christie  43.669542 -79.422564  \n26                                           Cedarbrae  43.773136 -79.239476  \n27                                   Hillcrest Village  43.803762 -79.363452  \n28     Bathurst Manor, Wilson Heights, Downsview North  43.754328 -79.442259  \n29                                    Thorncliffe Park  43.705369 -79.349372  \n30                            Richmond, Adelaide, King  43.650571 -79.384568  \n31                        Dufferin, Dovercourt Village  43.669005 -79.442259  \n32                                 Scarborough Village  43.744734 -79.239476  \n33                        Fairview, Henry Farm, Oriole  43.778517 -79.346556  \n34                     Northwood Park, York University  43.767980 -79.487262  \n35                                        East Toronto  43.685347 -79.338106  \n36   Harbourfront East, Union Station, Toronto Islands  43.640816 -79.381752  \n37                            Little Portugal, Trinity  43.647927 -79.419750  \n38         Kennedy Park, Ionview, East Birchmount Park  43.727929 -79.262029  \n39                                     Bayview Village  43.786947 -79.385975  \n40                                           Downsview  43.737473 -79.464763  \n41                        The Danforth West, Riverdale  43.679557 -79.352188  \n42            Toronto Dominion Centre, Design Exchange  43.647177 -79.381576  \n43        Brockton, Parkdale Village, Exhibition Place  43.636847 -79.428191  \n44                     Golden Mile, Clairlea, Oakridge  43.711112 -79.284577  \n45                            York Mills, Silver Hills  43.757490 -79.374714  \n46                                           Downsview  43.739015 -79.506944  \n47                      India Bazaar, The Beaches West  43.668999 -79.315572  \n48                      Commerce Court, Victoria Hotel  43.648198 -79.379817  \n49            North Park, Maple Leaf Park, Upwood Park  43.713756 -79.490074  \n50                                       Humber Summit  43.756303 -79.565963  \n51     Cliffside, Cliffcrest, Scarborough Village West  43.716316 -79.239476  \n52                             Willowdale, Newtonbrook  43.789053 -79.408493  \n53                                           Downsview  43.728496 -79.495697  \n54                                     Studio District  43.659526 -79.340923  \n55                   Bedford Park, Lawrence Manor East  43.733283 -79.419750  \n56    Del Ray, Mount Dennis, Keelsdale and Silverthorn  43.691116 -79.476013  \n57                                    Humberlea, Emery  43.724766 -79.532242  \n58                         Birch Cliff, Cliffside West  43.692657 -79.264848  \n59                                          Willowdale  43.770120 -79.408493  \n60                                           Downsview  43.761631 -79.520999  \n61                                       Lawrence Park  43.728020 -79.388790  \n62                                            Roselawn  43.711695 -79.416936  \n63                       Runnymede, The Junction North  43.673185 -79.487262  \n64                                              Weston  43.706876 -79.518188  \n65   Dorset Park, Wexford Heights, Scarborough Town...  43.757410 -79.273304  \n66                                     York Mills West  43.752758 -79.400049  \n67                                    Davisville North  43.712751 -79.390197  \n68                            Forest Hill North & West  43.696948 -79.411307  \n69                       High Park, The Junction South  43.661608 -79.464763  \n70                                           Westmount  43.696319 -79.532242  \n71                                   Wexford, Maryvale  43.750072 -79.295849  \n72                                          Willowdale  43.782736 -79.442259  \n73                                  North Toronto West  43.715383 -79.405678  \n74                 The Annex, North Midtown, Yorkville  43.672710 -79.405678  \n75                              Parkdale, Roncesvalles  43.648960 -79.456325  \n76               Canada Post Gateway Processing Centre  43.636966 -79.615819  \n77   Kingsview Village, St. Phillips, Martin Grove ...  43.688905 -79.554724  \n78                                           Agincourt  43.794200 -79.262029  \n79                                          Davisville  43.704324 -79.388790  \n80                      University of Toronto, Harbord  43.662696 -79.400049  \n81                                  Runnymede, Swansea  43.651571 -79.484450  \n82             Clarks Corners, Tam O'Shanter, Sullivan  43.781638 -79.304302  \n83                         Moore Park, Summerhill East  43.689574 -79.383160  \n84           Kensington Market, Chinatown, Grange Park  43.653206 -79.400049  \n85   Milliken, Agincourt North, Steeles East, L'Amo...  43.815252 -79.284577  \n86   Summerhill West, Rathnelly, South Hill, Forest...  43.686412 -79.400049  \n87   CN Tower, King and Spadina, Railway Lands, Har...  43.628947 -79.394420  \n88        New Toronto, Mimico South, Humber Bay Shores  43.605647 -79.501321  \n89   South Steeles, Silverstone, Humbergate, Jamest...  43.739416 -79.588437  \n90                       Steeles West, L'Amoreaux West  43.799525 -79.318389  \n91                                            Rosedale  43.679563 -79.377529  \n92                                      Stn A PO Boxes  43.646435 -79.374846  \n93                              Alderwood, Long Branch  43.602414 -79.543484  \n94                                           Northwest  43.706748 -79.594054  \n95                                         Upper Rouge  43.836125 -79.205636  \n96                         St. James Town, Cabbagetown  43.667967 -79.367675  \n97              First Canadian Place, Underground city  43.648429 -79.382280  \n98       The Kingsway, Montgomery Road, Old Mill North  43.653654 -79.506944  \n99                                Church and Wellesley  43.665860 -79.383160  \n100              Business reply mail Processing Centre  43.662744 -79.321558  \n101  Old Mill South, King's Mill Park, Sunnylea, Hu...  43.636258 -79.498509  \n102  Mimico NW, The Queensway West, South of Bloor,...  43.628841 -79.520999  ",
                        "text/html": "<div>\n<style scoped>\n    .dataframe tbody tr th:only-of-type {\n        vertical-align: middle;\n    }\n\n    .dataframe tbody tr th {\n        vertical-align: top;\n    }\n\n    .dataframe thead th {\n        text-align: right;\n    }\n</style>\n<table border=\"1\" class=\"dataframe\">\n  <thead>\n    <tr style=\"text-align: right;\">\n      <th></th>\n      <th>Postal Code</th>\n      <th>Borough</th>\n      <th>Neighborhood</th>\n      <th>Latitude</th>\n      <th>Longitude</th>\n    </tr>\n  </thead>\n  <tbody>\n    <tr>\n      <th>0</th>\n      <td>M3A</td>\n      <td>North York</td>\n      <td>Parkwoods</td>\n      <td>43.753259</td>\n      <td>-79.329656</td>\n    </tr>\n    <tr>\n      <th>1</th>\n      <td>M4A</td>\n      <td>North York</td>\n      <td>Victoria Village</td>\n      <td>43.725882</td>\n      <td>-79.315572</td>\n    </tr>\n    <tr>\n      <th>2</th>\n      <td>M5A</td>\n      <td>Downtown Toronto</td>\n      <td>Regent Park, Harbourfront</td>\n      <td>43.654260</td>\n      <td>-79.360636</td>\n    </tr>\n    <tr>\n      <th>3</th>\n      <td>M6A</td>\n      <td>North York</td>\n      <td>Lawrence Manor, Lawrence Heights</td>\n      <td>43.718518</td>\n      <td>-79.464763</td>\n    </tr>\n    <tr>\n      <th>4</th>\n      <td>M7A</td>\n      <td>Downtown Toronto</td>\n      <td>Queen's Park, Ontario Provincial Government</td>\n      <td>43.662301</td>\n      <td>-79.389494</td>\n    </tr>\n    <tr>\n      <th>5</th>\n      <td>M9A</td>\n      <td>Etobicoke</td>\n      <td>Islington Avenue</td>\n      <td>43.667856</td>\n      <td>-79.532242</td>\n    </tr>\n    <tr>\n      <th>6</th>\n      <td>M1B</td>\n      <td>Scarborough</td>\n      <td>Malvern, Rouge</td>\n      <td>43.806686</td>\n      <td>-79.194353</td>\n    </tr>\n    <tr>\n      <th>7</th>\n      <td>M3B</td>\n      <td>North York</td>\n      <td>Don Mills</td>\n      <td>43.745906</td>\n      <td>-79.352188</td>\n    </tr>\n    <tr>\n      <th>8</th>\n      <td>M4B</td>\n      <td>East York</td>\n      <td>Parkview Hill, Woodbine Gardens</td>\n      <td>43.706397</td>\n      <td>-79.309937</td>\n    </tr>\n    <tr>\n      <th>9</th>\n      <td>M5B</td>\n      <td>Downtown Toronto</td>\n      <td>Garden District, Ryerson</td>\n      <td>43.657162</td>\n      <td>-79.378937</td>\n    </tr>\n    <tr>\n      <th>10</th>\n      <td>M6B</td>\n      <td>North York</td>\n      <td>Glencairn</td>\n      <td>43.709577</td>\n      <td>-79.445073</td>\n    </tr>\n    <tr>\n      <th>11</th>\n      <td>M9B</td>\n      <td>Etobicoke</td>\n      <td>West Deane Park, Princess Gardens, Martin Grov...</td>\n      <td>43.650943</td>\n      <td>-79.554724</td>\n    </tr>\n    <tr>\n      <th>12</th>\n      <td>M1C</td>\n      <td>Scarborough</td>\n      <td>Rouge Hill, Port Union, Highland Creek</td>\n      <td>43.784535</td>\n      <td>-79.160497</td>\n    </tr>\n    <tr>\n      <th>13</th>\n      <td>M3C</td>\n      <td>North York</td>\n      <td>Don Mills</td>\n      <td>43.725900</td>\n      <td>-79.340923</td>\n    </tr>\n    <tr>\n      <th>14</th>\n      <td>M4C</td>\n      <td>East York</td>\n      <td>Woodbine Heights</td>\n      <td>43.695344</td>\n      <td>-79.318389</td>\n    </tr>\n    <tr>\n      <th>15</th>\n      <td>M5C</td>\n      <td>Downtown Toronto</td>\n      <td>St. James Town</td>\n      <td>43.651494</td>\n      <td>-79.375418</td>\n    </tr>\n    <tr>\n      <th>16</th>\n      <td>M6C</td>\n      <td>York</td>\n      <td>Humewood-Cedarvale</td>\n      <td>43.693781</td>\n      <td>-79.428191</td>\n    </tr>\n    <tr>\n      <th>17</th>\n      <td>M9C</td>\n      <td>Etobicoke</td>\n      <td>Eringate, Bloordale Gardens, Old Burnhamthorpe...</td>\n      <td>43.643515</td>\n      <td>-79.577201</td>\n    </tr>\n    <tr>\n      <th>18</th>\n      <td>M1E</td>\n      <td>Scarborough</td>\n      <td>Guildwood, Morningside, West Hill</td>\n      <td>43.763573</td>\n      <td>-79.188711</td>\n    </tr>\n    <tr>\n      <th>19</th>\n      <td>M4E</td>\n      <td>East Toronto</td>\n      <td>The Beaches</td>\n      <td>43.676357</td>\n      <td>-79.293031</td>\n    </tr>\n    <tr>\n      <th>20</th>\n      <td>M5E</td>\n      <td>Downtown Toronto</td>\n      <td>Berczy Park</td>\n      <td>43.644771</td>\n      <td>-79.373306</td>\n    </tr>\n    <tr>\n      <th>21</th>\n      <td>M6E</td>\n      <td>York</td>\n      <td>Caledonia-Fairbanks</td>\n      <td>43.689026</td>\n      <td>-79.453512</td>\n    </tr>\n    <tr>\n      <th>22</th>\n      <td>M1G</td>\n      <td>Scarborough</td>\n      <td>Woburn</td>\n      <td>43.770992</td>\n      <td>-79.216917</td>\n    </tr>\n    <tr>\n      <th>23</th>\n      <td>M4G</td>\n      <td>East York</td>\n      <td>Leaside</td>\n      <td>43.709060</td>\n      <td>-79.363452</td>\n    </tr>\n    <tr>\n      <th>24</th>\n      <td>M5G</td>\n      <td>Downtown Toronto</td>\n      <td>Central Bay Street</td>\n      <td>43.657952</td>\n      <td>-79.387383</td>\n    </tr>\n    <tr>\n      <th>25</th>\n      <td>M6G</td>\n      <td>Downtown Toronto</td>\n      <td>Christie</td>\n      <td>43.669542</td>\n      <td>-79.422564</td>\n    </tr>\n    <tr>\n      <th>26</th>\n      <td>M1H</td>\n      <td>Scarborough</td>\n      <td>Cedarbrae</td>\n      <td>43.773136</td>\n      <td>-79.239476</td>\n    </tr>\n    <tr>\n      <th>27</th>\n      <td>M2H</td>\n      <td>North York</td>\n      <td>Hillcrest Village</td>\n      <td>43.803762</td>\n      <td>-79.363452</td>\n    </tr>\n    <tr>\n      <th>28</th>\n      <td>M3H</td>\n      <td>North York</td>\n      <td>Bathurst Manor, Wilson Heights, Downsview North</td>\n      <td>43.754328</td>\n      <td>-79.442259</td>\n    </tr>\n    <tr>\n      <th>29</th>\n      <td>M4H</td>\n      <td>East York</td>\n      <td>Thorncliffe Park</td>\n      <td>43.705369</td>\n      <td>-79.349372</td>\n    </tr>\n    <tr>\n      <th>30</th>\n      <td>M5H</td>\n      <td>Downtown Toronto</td>\n      <td>Richmond, Adelaide, King</td>\n      <td>43.650571</td>\n      <td>-79.384568</td>\n    </tr>\n    <tr>\n      <th>31</th>\n      <td>M6H</td>\n      <td>West Toronto</td>\n      <td>Dufferin, Dovercourt Village</td>\n      <td>43.669005</td>\n      <td>-79.442259</td>\n    </tr>\n    <tr>\n      <th>32</th>\n      <td>M1J</td>\n      <td>Scarborough</td>\n      <td>Scarborough Village</td>\n      <td>43.744734</td>\n      <td>-79.239476</td>\n    </tr>\n    <tr>\n      <th>33</th>\n      <td>M2J</td>\n      <td>North York</td>\n      <td>Fairview, Henry Farm, Oriole</td>\n      <td>43.778517</td>\n      <td>-79.346556</td>\n    </tr>\n    <tr>\n      <th>34</th>\n      <td>M3J</td>\n      <td>North York</td>\n      <td>Northwood Park, York University</td>\n      <td>43.767980</td>\n      <td>-79.487262</td>\n    </tr>\n    <tr>\n      <th>35</th>\n      <td>M4J</td>\n      <td>East York</td>\n      <td>East Toronto</td>\n      <td>43.685347</td>\n      <td>-79.338106</td>\n    </tr>\n    <tr>\n      <th>36</th>\n      <td>M5J</td>\n      <td>Downtown Toronto</td>\n      <td>Harbourfront East, Union Station, Toronto Islands</td>\n      <td>43.640816</td>\n      <td>-79.381752</td>\n    </tr>\n    <tr>\n      <th>37</th>\n      <td>M6J</td>\n      <td>West Toronto</td>\n      <td>Little Portugal, Trinity</td>\n      <td>43.647927</td>\n      <td>-79.419750</td>\n    </tr>\n    <tr>\n      <th>38</th>\n      <td>M1K</td>\n      <td>Scarborough</td>\n      <td>Kennedy Park, Ionview, East Birchmount Park</td>\n      <td>43.727929</td>\n      <td>-79.262029</td>\n    </tr>\n    <tr>\n      <th>39</th>\n      <td>M2K</td>\n      <td>North York</td>\n      <td>Bayview Village</td>\n      <td>43.786947</td>\n      <td>-79.385975</td>\n    </tr>\n    <tr>\n      <th>40</th>\n      <td>M3K</td>\n      <td>North York</td>\n      <td>Downsview</td>\n      <td>43.737473</td>\n      <td>-79.464763</td>\n    </tr>\n    <tr>\n      <th>41</th>\n      <td>M4K</td>\n      <td>East Toronto</td>\n      <td>The Danforth West, Riverdale</td>\n      <td>43.679557</td>\n      <td>-79.352188</td>\n    </tr>\n    <tr>\n      <th>42</th>\n      <td>M5K</td>\n      <td>Downtown Toronto</td>\n      <td>Toronto Dominion Centre, Design Exchange</td>\n      <td>43.647177</td>\n      <td>-79.381576</td>\n    </tr>\n    <tr>\n      <th>43</th>\n      <td>M6K</td>\n      <td>West Toronto</td>\n      <td>Brockton, Parkdale Village, Exhibition Place</td>\n      <td>43.636847</td>\n      <td>-79.428191</td>\n    </tr>\n    <tr>\n      <th>44</th>\n      <td>M1L</td>\n      <td>Scarborough</td>\n      <td>Golden Mile, Clairlea, Oakridge</td>\n      <td>43.711112</td>\n      <td>-79.284577</td>\n    </tr>\n    <tr>\n      <th>45</th>\n      <td>M2L</td>\n      <td>North York</td>\n      <td>York Mills, Silver Hills</td>\n      <td>43.757490</td>\n      <td>-79.374714</td>\n    </tr>\n    <tr>\n      <th>46</th>\n      <td>M3L</td>\n      <td>North York</td>\n      <td>Downsview</td>\n      <td>43.739015</td>\n      <td>-79.506944</td>\n    </tr>\n    <tr>\n      <th>47</th>\n      <td>M4L</td>\n      <td>East Toronto</td>\n      <td>India Bazaar, The Beaches West</td>\n      <td>43.668999</td>\n      <td>-79.315572</td>\n    </tr>\n    <tr>\n      <th>48</th>\n      <td>M5L</td>\n      <td>Downtown Toronto</td>\n      <td>Commerce Court, Victoria Hotel</td>\n      <td>43.648198</td>\n      <td>-79.379817</td>\n    </tr>\n    <tr>\n      <th>49</th>\n      <td>M6L</td>\n      <td>North York</td>\n      <td>North Park, Maple Leaf Park, Upwood Park</td>\n      <td>43.713756</td>\n      <td>-79.490074</td>\n    </tr>\n    <tr>\n      <th>50</th>\n      <td>M9L</td>\n      <td>North York</td>\n      <td>Humber Summit</td>\n      <td>43.756303</td>\n      <td>-79.565963</td>\n    </tr>\n    <tr>\n      <th>51</th>\n      <td>M1M</td>\n      <td>Scarborough</td>\n      <td>Cliffside, Cliffcrest, Scarborough Village West</td>\n      <td>43.716316</td>\n      <td>-79.239476</td>\n    </tr>\n    <tr>\n      <th>52</th>\n      <td>M2M</td>\n      <td>North York</td>\n      <td>Willowdale, Newtonbrook</td>\n      <td>43.789053</td>\n      <td>-79.408493</td>\n    </tr>\n    <tr>\n      <th>53</th>\n      <td>M3M</td>\n      <td>North York</td>\n      <td>Downsview</td>\n      <td>43.728496</td>\n      <td>-79.495697</td>\n    </tr>\n    <tr>\n      <th>54</th>\n      <td>M4M</td>\n      <td>East Toronto</td>\n      <td>Studio District</td>\n      <td>43.659526</td>\n      <td>-79.340923</td>\n    </tr>\n    <tr>\n      <th>55</th>\n      <td>M5M</td>\n      <td>North York</td>\n      <td>Bedford Park, Lawrence Manor East</td>\n      <td>43.733283</td>\n      <td>-79.419750</td>\n    </tr>\n    <tr>\n      <th>56</th>\n      <td>M6M</td>\n      <td>York</td>\n      <td>Del Ray, Mount Dennis, Keelsdale and Silverthorn</td>\n      <td>43.691116</td>\n      <td>-79.476013</td>\n    </tr>\n    <tr>\n      <th>57</th>\n      <td>M9M</td>\n      <td>North York</td>\n      <td>Humberlea, Emery</td>\n      <td>43.724766</td>\n      <td>-79.532242</td>\n    </tr>\n    <tr>\n      <th>58</th>\n      <td>M1N</td>\n      <td>Scarborough</td>\n      <td>Birch Cliff, Cliffside West</td>\n      <td>43.692657</td>\n      <td>-79.264848</td>\n    </tr>\n    <tr>\n      <th>59</th>\n      <td>M2N</td>\n      <td>North York</td>\n      <td>Willowdale</td>\n      <td>43.770120</td>\n      <td>-79.408493</td>\n    </tr>\n    <tr>\n      <th>60</th>\n      <td>M3N</td>\n      <td>North York</td>\n      <td>Downsview</td>\n      <td>43.761631</td>\n      <td>-79.520999</td>\n    </tr>\n    <tr>\n      <th>61</th>\n      <td>M4N</td>\n      <td>Central Toronto</td>\n      <td>Lawrence Park</td>\n      <td>43.728020</td>\n      <td>-79.388790</td>\n    </tr>\n    <tr>\n      <th>62</th>\n      <td>M5N</td>\n      <td>Central Toronto</td>\n      <td>Roselawn</td>\n      <td>43.711695</td>\n      <td>-79.416936</td>\n    </tr>\n    <tr>\n      <th>63</th>\n      <td>M6N</td>\n      <td>York</td>\n      <td>Runnymede, The Junction North</td>\n      <td>43.673185</td>\n      <td>-79.487262</td>\n    </tr>\n    <tr>\n      <th>64</th>\n      <td>M9N</td>\n      <td>York</td>\n      <td>Weston</td>\n      <td>43.706876</td>\n      <td>-79.518188</td>\n    </tr>\n    <tr>\n      <th>65</th>\n      <td>M1P</td>\n      <td>Scarborough</td>\n      <td>Dorset Park, Wexford Heights, Scarborough Town...</td>\n      <td>43.757410</td>\n      <td>-79.273304</td>\n    </tr>\n    <tr>\n      <th>66</th>\n      <td>M2P</td>\n      <td>North York</td>\n      <td>York Mills West</td>\n      <td>43.752758</td>\n      <td>-79.400049</td>\n    </tr>\n    <tr>\n      <th>67</th>\n      <td>M4P</td>\n      <td>Central Toronto</td>\n      <td>Davisville North</td>\n      <td>43.712751</td>\n      <td>-79.390197</td>\n    </tr>\n    <tr>\n      <th>68</th>\n      <td>M5P</td>\n      <td>Central Toronto</td>\n      <td>Forest Hill North &amp; West</td>\n      <td>43.696948</td>\n      <td>-79.411307</td>\n    </tr>\n    <tr>\n      <th>69</th>\n      <td>M6P</td>\n      <td>West Toronto</td>\n      <td>High Park, The Junction South</td>\n      <td>43.661608</td>\n      <td>-79.464763</td>\n    </tr>\n    <tr>\n      <th>70</th>\n      <td>M9P</td>\n      <td>Etobicoke</td>\n      <td>Westmount</td>\n      <td>43.696319</td>\n      <td>-79.532242</td>\n    </tr>\n    <tr>\n      <th>71</th>\n      <td>M1R</td>\n      <td>Scarborough</td>\n      <td>Wexford, Maryvale</td>\n      <td>43.750072</td>\n      <td>-79.295849</td>\n    </tr>\n    <tr>\n      <th>72</th>\n      <td>M2R</td>\n      <td>North York</td>\n      <td>Willowdale</td>\n      <td>43.782736</td>\n      <td>-79.442259</td>\n    </tr>\n    <tr>\n      <th>73</th>\n      <td>M4R</td>\n      <td>Central Toronto</td>\n      <td>North Toronto West</td>\n      <td>43.715383</td>\n      <td>-79.405678</td>\n    </tr>\n    <tr>\n      <th>74</th>\n      <td>M5R</td>\n      <td>Central Toronto</td>\n      <td>The Annex, North Midtown, Yorkville</td>\n      <td>43.672710</td>\n      <td>-79.405678</td>\n    </tr>\n    <tr>\n      <th>75</th>\n      <td>M6R</td>\n      <td>West Toronto</td>\n      <td>Parkdale, Roncesvalles</td>\n      <td>43.648960</td>\n      <td>-79.456325</td>\n    </tr>\n    <tr>\n      <th>76</th>\n      <td>M7R</td>\n      <td>Mississauga</td>\n      <td>Canada Post Gateway Processing Centre</td>\n      <td>43.636966</td>\n      <td>-79.615819</td>\n    </tr>\n    <tr>\n      <th>77</th>\n      <td>M9R</td>\n      <td>Etobicoke</td>\n      <td>Kingsview Village, St. Phillips, Martin Grove ...</td>\n      <td>43.688905</td>\n      <td>-79.554724</td>\n    </tr>\n    <tr>\n      <th>78</th>\n      <td>M1S</td>\n      <td>Scarborough</td>\n      <td>Agincourt</td>\n      <td>43.794200</td>\n      <td>-79.262029</td>\n    </tr>\n    <tr>\n      <th>79</th>\n      <td>M4S</td>\n      <td>Central Toronto</td>\n      <td>Davisville</td>\n      <td>43.704324</td>\n      <td>-79.388790</td>\n    </tr>\n    <tr>\n      <th>80</th>\n      <td>M5S</td>\n      <td>Downtown Toronto</td>\n      <td>University of Toronto, Harbord</td>\n      <td>43.662696</td>\n      <td>-79.400049</td>\n    </tr>\n    <tr>\n      <th>81</th>\n      <td>M6S</td>\n      <td>West Toronto</td>\n      <td>Runnymede, Swansea</td>\n      <td>43.651571</td>\n      <td>-79.484450</td>\n    </tr>\n    <tr>\n      <th>82</th>\n      <td>M1T</td>\n      <td>Scarborough</td>\n      <td>Clarks Corners, Tam O'Shanter, Sullivan</td>\n      <td>43.781638</td>\n      <td>-79.304302</td>\n    </tr>\n    <tr>\n      <th>83</th>\n      <td>M4T</td>\n      <td>Central Toronto</td>\n      <td>Moore Park, Summerhill East</td>\n      <td>43.689574</td>\n      <td>-79.383160</td>\n    </tr>\n    <tr>\n      <th>84</th>\n      <td>M5T</td>\n      <td>Downtown Toronto</td>\n      <td>Kensington Market, Chinatown, Grange Park</td>\n      <td>43.653206</td>\n      <td>-79.400049</td>\n    </tr>\n    <tr>\n      <th>85</th>\n      <td>M1V</td>\n      <td>Scarborough</td>\n      <td>Milliken, Agincourt North, Steeles East, L'Amo...</td>\n      <td>43.815252</td>\n      <td>-79.284577</td>\n    </tr>\n    <tr>\n      <th>86</th>\n      <td>M4V</td>\n      <td>Central Toronto</td>\n      <td>Summerhill West, Rathnelly, South Hill, Forest...</td>\n      <td>43.686412</td>\n      <td>-79.400049</td>\n    </tr>\n    <tr>\n      <th>87</th>\n      <td>M5V</td>\n      <td>Downtown Toronto</td>\n      <td>CN Tower, King and Spadina, Railway Lands, Har...</td>\n      <td>43.628947</td>\n      <td>-79.394420</td>\n    </tr>\n    <tr>\n      <th>88</th>\n      <td>M8V</td>\n      <td>Etobicoke</td>\n      <td>New Toronto, Mimico South, Humber Bay Shores</td>\n      <td>43.605647</td>\n      <td>-79.501321</td>\n    </tr>\n    <tr>\n      <th>89</th>\n      <td>M9V</td>\n      <td>Etobicoke</td>\n      <td>South Steeles, Silverstone, Humbergate, Jamest...</td>\n      <td>43.739416</td>\n      <td>-79.588437</td>\n    </tr>\n    <tr>\n      <th>90</th>\n      <td>M1W</td>\n      <td>Scarborough</td>\n      <td>Steeles West, L'Amoreaux West</td>\n      <td>43.799525</td>\n      <td>-79.318389</td>\n    </tr>\n    <tr>\n      <th>91</th>\n      <td>M4W</td>\n      <td>Downtown Toronto</td>\n      <td>Rosedale</td>\n      <td>43.679563</td>\n      <td>-79.377529</td>\n    </tr>\n    <tr>\n      <th>92</th>\n      <td>M5W</td>\n      <td>Downtown Toronto</td>\n      <td>Stn A PO Boxes</td>\n      <td>43.646435</td>\n      <td>-79.374846</td>\n    </tr>\n    <tr>\n      <th>93</th>\n      <td>M8W</td>\n      <td>Etobicoke</td>\n      <td>Alderwood, Long Branch</td>\n      <td>43.602414</td>\n      <td>-79.543484</td>\n    </tr>\n    <tr>\n      <th>94</th>\n      <td>M9W</td>\n      <td>Etobicoke</td>\n      <td>Northwest</td>\n      <td>43.706748</td>\n      <td>-79.594054</td>\n    </tr>\n    <tr>\n      <th>95</th>\n      <td>M1X</td>\n      <td>Scarborough</td>\n      <td>Upper Rouge</td>\n      <td>43.836125</td>\n      <td>-79.205636</td>\n    </tr>\n    <tr>\n      <th>96</th>\n      <td>M4X</td>\n      <td>Downtown Toronto</td>\n      <td>St. James Town, Cabbagetown</td>\n      <td>43.667967</td>\n      <td>-79.367675</td>\n    </tr>\n    <tr>\n      <th>97</th>\n      <td>M5X</td>\n      <td>Downtown Toronto</td>\n      <td>First Canadian Place, Underground city</td>\n      <td>43.648429</td>\n      <td>-79.382280</td>\n    </tr>\n    <tr>\n      <th>98</th>\n      <td>M8X</td>\n      <td>Etobicoke</td>\n      <td>The Kingsway, Montgomery Road, Old Mill North</td>\n      <td>43.653654</td>\n      <td>-79.506944</td>\n    </tr>\n    <tr>\n      <th>99</th>\n      <td>M4Y</td>\n      <td>Downtown Toronto</td>\n      <td>Church and Wellesley</td>\n      <td>43.665860</td>\n      <td>-79.383160</td>\n    </tr>\n    <tr>\n      <th>100</th>\n      <td>M7Y</td>\n      <td>East Toronto</td>\n      <td>Business reply mail Processing Centre</td>\n      <td>43.662744</td>\n      <td>-79.321558</td>\n    </tr>\n    <tr>\n      <th>101</th>\n      <td>M8Y</td>\n      <td>Etobicoke</td>\n      <td>Old Mill South, King's Mill Park, Sunnylea, Hu...</td>\n      <td>43.636258</td>\n      <td>-79.498509</td>\n    </tr>\n    <tr>\n      <th>102</th>\n      <td>M8Z</td>\n      <td>Etobicoke</td>\n      <td>Mimico NW, The Queensway West, South of Bloor,...</td>\n      <td>43.628841</td>\n      <td>-79.520999</td>\n    </tr>\n  </tbody>\n</table>\n</div>"
                    },
                    "metadata": {}
                }
            ]
        },
        {
            "metadata": {
                "scrolled": true
            },
            "cell_type": "code",
            "source": "\n",
            "execution_count": null,
            "outputs": []
        },
        {
            "metadata": {
                "scrolled": true
            },
            "cell_type": "code",
            "source": "#Match postal code to get the Lattitude and longitude, Using the Merge function.!\n",
            "execution_count": null,
            "outputs": []
        },
        {
            "metadata": {
                "scrolled": true
            },
            "cell_type": "code",
            "source": "",
            "execution_count": 84,
            "outputs": [
                {
                    "output_type": "error",
                    "ename": "ModuleNotFoundError",
                    "evalue": "No module named 'Folium'",
                    "traceback": [
                        "\u001b[0;31m---------------------------------------------------------------------------\u001b[0m",
                        "\u001b[0;31mModuleNotFoundError\u001b[0m                       Traceback (most recent call last)",
                        "\u001b[0;32m<ipython-input-84-9d622ead7b6c>\u001b[0m in \u001b[0;36m<module>\u001b[0;34m\u001b[0m\n\u001b[0;32m----> 1\u001b[0;31m \u001b[0;32mimport\u001b[0m \u001b[0mFolium\u001b[0m\u001b[0;34m\u001b[0m\u001b[0;34m\u001b[0m\u001b[0m\n\u001b[0m",
                        "\u001b[0;31mModuleNotFoundError\u001b[0m: No module named 'Folium'"
                    ]
                }
            ]
        },
        {
            "metadata": {},
            "cell_type": "code",
            "source": "",
            "execution_count": null,
            "outputs": []
        }
    ],
    "metadata": {
        "kernelspec": {
            "name": "python3",
            "display_name": "Python 3.6",
            "language": "python"
        }
    },
    "nbformat": 4,
    "nbformat_minor": 1
}