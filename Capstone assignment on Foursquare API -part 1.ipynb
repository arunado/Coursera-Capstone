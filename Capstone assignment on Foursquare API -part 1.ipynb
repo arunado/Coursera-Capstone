{
    "cells": [
        {
            "metadata": {
                "collapsed": true
            },
            "cell_type": "markdown",
            "source": "Capstone assignment -Aruna\n\n11-May-2020\n\nOpportunity Assessment for Capstone project using Foursquare API.\n\nIntroduction -\n\nWe have been hired by the Mayor of Mississauga to assist in approval for a request to set up Italian restaurant in South missisauga neighbourhood.\nWe plan to use the Foursquare Api to help the mayor with the decision. we will analyze the are for existing businesses and provide guidance with fact s on the area.\n\nProcess -\nWe will map the neighbourhood for nearest Coffee shops, Restaurants and entertainment areas.\nthis will help in deciding the zoning.\nWe will create an account in Foursquare api.\nWe will obtain the client ID and Secret after registering with foursquare.\nwe will run a search query to see if there are any italian restaurants in the neighbourhood.\nthis result will then be loaded on a Pandas Dataframe.\nUsing Folium Maps we will visualize this data and explore the venue.\n\nthe report with the maps will be presented to the Mayors office, so they can make a decision if another italian restaurant is required in the area.\n\nafter a zoning location is decided we can also use K means to find the best locations that will be equidistant from major attractions in the area. this will ensure all public has access to this new Italian restaurant.\n"
        },
        {
            "metadata": {},
            "cell_type": "code",
            "source": "",
            "execution_count": null,
            "outputs": []
        }
    ],
    "metadata": {
        "kernelspec": {
            "name": "python3",
            "display_name": "Python 3.6",
            "language": "python"
        },
        "language_info": {
            "name": "python",
            "version": "3.6.9",
            "mimetype": "text/x-python",
            "codemirror_mode": {
                "name": "ipython",
                "version": 3
            },
            "pygments_lexer": "ipython3",
            "nbconvert_exporter": "python",
            "file_extension": ".py"
        }
    },
    "nbformat": 4,
    "nbformat_minor": 1
}